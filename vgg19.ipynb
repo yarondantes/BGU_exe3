{
 "cells": [
  {
   "cell_type": "code",
   "execution_count": 1,
   "id": "df0821ba",
   "metadata": {},
   "outputs": [],
   "source": [
    "import sys\n",
    "import pickle\n",
    "import glob\n",
    "import shutil\n",
    "import numpy as np\n",
    "import pandas as pd\n",
    "from sklearn.metrics import roc_auc_score\n",
    "import torch\n",
    "from torch.utils.data import Dataset\n",
    "from torch.utils.data import DataLoader\n",
    "from torchvision.models import vgg19\n",
    "from torch import nn\n",
    "import torch.optim as optim\n",
    "from torchvision import transforms\n",
    "from torchvision.datasets import ImageFolder\n",
    "from torchsummary import summary\n",
    "from torchinfo import summary\n",
    "# from torchvision.models.vgg.V import VGG19_Weights\n",
    "import warnings \n",
    "import os\n",
    "warnings.filterwarnings(\"ignore\")\n",
    "import cv2\n",
    "from utils import *\n",
    "\n",
    "import matplotlib.pyplot as plt\n",
    "\n",
    "%matplotlib inline"
   ]
  },
  {
   "cell_type": "code",
   "execution_count": 2,
   "id": "18966736",
   "metadata": {},
   "outputs": [],
   "source": [
    "base_path = os.path.dirname(os.path.abspath('__file__'))\n",
    "data_path = os.path.join(base_path, 'data','data_for_vgg_augmented')\n",
    "train_path = os.path.join(data_path,'train')\n",
    "test_path = os.path.join(data_path,'test')"
   ]
  },
  {
   "cell_type": "code",
   "execution_count": 3,
   "id": "d29f3812",
   "metadata": {},
   "outputs": [],
   "source": [
    "with open('classes.txt', 'rb') as f:\n",
    "    classes = pickle.load(f)"
   ]
  },
  {
   "cell_type": "markdown",
   "id": "09f9f8b5",
   "metadata": {},
   "source": [
    "## build the model"
   ]
  },
  {
   "cell_type": "code",
   "execution_count": 4,
   "id": "b7d44f06",
   "metadata": {},
   "outputs": [
    {
     "data": {
      "text/plain": [
       "'cuda'"
      ]
     },
     "execution_count": 4,
     "metadata": {},
     "output_type": "execute_result"
    }
   ],
   "source": [
    "num_of_classes = len(classes)\n",
    "img_width, img_height = 224, 224\n",
    "device = \"cuda\" if torch.cuda.is_available() else \"cpu\"\n",
    "torch.cuda.empty_cache()\n",
    "device"
   ]
  },
  {
   "cell_type": "code",
   "execution_count": 13,
   "id": "251ecbec",
   "metadata": {},
   "outputs": [],
   "source": [
    "# model_vgg19 = vgg19(pretrained=True)\n",
    "# model_vgg19.classifier[6] = nn.Linear(in_features=4096, out_features = num_of_classes, bias=True)"
   ]
  },
  {
   "cell_type": "code",
   "execution_count": 14,
   "id": "bce5b9c7",
   "metadata": {},
   "outputs": [],
   "source": [
    "# for param in model_vgg19.features.parameters():\n",
    "#     param.requires_grad = False"
   ]
  },
  {
   "cell_type": "code",
   "execution_count": 16,
   "id": "0578e874",
   "metadata": {},
   "outputs": [],
   "source": [
    "# summary(model_vgg19, \n",
    "#         input_size=(32, 3, 224, 224), # make sure this is \"input_size\", not \"input_shape\" (batch_size, color_channels, height, width)\n",
    "#         verbose=0,\n",
    "#         col_names=[\"input_size\", \"output_size\", \"num_params\", \"trainable\"],\n",
    "#         col_width=20,\n",
    "#         row_settings=[\"var_names\"]\n",
    "# )"
   ]
  },
  {
   "cell_type": "code",
   "execution_count": 8,
   "id": "447d0469",
   "metadata": {},
   "outputs": [],
   "source": [
    "def train_the_model():\n",
    "    print('start defineing the model')\n",
    "    # define the model\n",
    "    model_vgg19 = vgg19(pretrained=True)\n",
    "    model_vgg19.classifier[6] = nn.Linear(in_features=4096, out_features = num_of_classes, bias=True)\n",
    "    \n",
    "    # freeze feature layers\n",
    "    for param in model_vgg19.features.parameters():\n",
    "        param.requires_grad = False\n",
    "    \n",
    "    # Define the transformation for the input images\n",
    "    transform = transforms.Compose([\n",
    "        transforms.Resize((img_width, img_height)),\n",
    "        transforms.ToTensor(),\n",
    "        transforms.Normalize(mean=[0.485, 0.456, 0.406], std=[0.229, 0.224, 0.225])\n",
    "    ])\n",
    "\n",
    "    # Load the dataset\n",
    "    train_data_dir = os.path.join(data_path, 'train')\n",
    "    validation_data_dir = os.path.join(data_path, 'test')\n",
    "\n",
    "    train_dataset = ImageFolder(train_data_dir, transform=transform)\n",
    "    validation_dataset = ImageFolder(validation_data_dir, transform=transform)\n",
    "\n",
    "    # Create data loaders\n",
    "    batch_size = 4\n",
    "    train_loader = DataLoader(train_dataset, batch_size=batch_size, shuffle=True, num_workers=4)\n",
    "    validation_loader = DataLoader(validation_dataset, batch_size=batch_size, shuffle=False, num_workers=4)\n",
    "\n",
    "    # Move the model to the device\n",
    "    model_vgg19 = model_vgg19.to(device)\n",
    "\n",
    "    # Define the loss function and optimizer\n",
    "    loss_fn = nn.CrossEntropyLoss()\n",
    "    optimizer = optim.Adam(model_vgg19.parameters(), lr=0.001)\n",
    "\n",
    "    # Train the model\n",
    "    epochs = 10\n",
    "\n",
    "    # document statistics\n",
    "    train_accuracy_per_epoch = []\n",
    "    train_cross_entropy_per_epoch = []\n",
    "    test_accuracy_per_epoch = []\n",
    "    test_cross_entropy_per_epoch = []\n",
    "\n",
    "    for epoch in range(epochs):\n",
    "        train_loss, train_acc = 0, 0\n",
    "\n",
    "        model_vgg19.train()\n",
    "        for inputs, y_true in train_loader:\n",
    "            inputs = inputs.to(device)\n",
    "            y_true = y_true.to(device)\n",
    "\n",
    "            y_pred = model_vgg19(inputs)\n",
    "\n",
    "            loss = loss_fn(y_pred, y_true)\n",
    "            train_loss += loss.item() \n",
    "\n",
    "            optimizer.zero_grad() \n",
    "\n",
    "            loss.backward()\n",
    "\n",
    "            optimizer.step()\n",
    "\n",
    "\n",
    "            # Calculate and accumulate accuracy metric across all batches\n",
    "            y_pred_class = torch.argmax(torch.softmax(y_pred, dim=1), dim=1)\n",
    "            train_acc += (y_pred_class == y_true).sum().item()/len(y_pred)\n",
    "\n",
    "\n",
    "         # Adjust metrics to get average loss and accuracy per batch \n",
    "        train_loss = train_loss / len(train_loader)\n",
    "        train_acc = train_acc / len(train_loader)\n",
    "\n",
    "        print(f\"Epoch {epoch + 1}/{epochs} - Loss: {train_loss:.4f} - Accuracy: {train_acc:.4f}\")\n",
    "\n",
    "        train_cross_entropy_per_epoch.append(train_loss)\n",
    "        train_accuracy_per_epoch.append(train_acc)\n",
    "\n",
    "\n",
    "        model_vgg19.eval()\n",
    "        with torch.no_grad():\n",
    "            test_loss, test_acc = 0, 0\n",
    "\n",
    "            for inputs, y_true in validation_loader:\n",
    "                inputs = inputs.to(device)\n",
    "                y_true = y_true.to(device)\n",
    "\n",
    "                y_pred = model_vgg19(inputs)\n",
    "\n",
    "                loss = loss_fn(y_pred, y_true)\n",
    "                test_loss += loss.item()\n",
    "\n",
    "\n",
    "                y_pred_class = torch.argmax(torch.softmax(y_pred, dim=1), dim=1)\n",
    "                test_acc += (y_pred_class == y_true).sum().item()/len(y_pred)\n",
    "\n",
    "            # Adjust metrics to get average loss and accuracy per batch \n",
    "            test_loss = test_loss / len(validation_loader)\n",
    "            test_acc = test_acc / len(validation_loader)\n",
    "\n",
    "            print(f\"Validation Loss: {test_loss:.4f} - Validation Accuracy: {test_acc:.4f}\")\n",
    "\n",
    "            test_cross_entropy_per_epoch.append(test_loss)\n",
    "            test_accuracy_per_epoch.append(test_acc)\n",
    "\n",
    "    # Save the trained model\n",
    "#     torch.save(model_vgg19.state_dict(), 'vgg19_101_classes_model.pth')\n",
    "    \n",
    "    return train_cross_entropy_per_epoch, train_accuracy_per_epoch, test_cross_entropy_per_epoch, test_accuracy_per_epoch\n",
    "\n"
   ]
  },
  {
   "cell_type": "code",
   "execution_count": 9,
   "id": "1b4c5430",
   "metadata": {},
   "outputs": [],
   "source": [
    "# train_accuracy_1, test_accuracy_1"
   ]
  },
  {
   "cell_type": "code",
   "execution_count": 10,
   "id": "838a0f65",
   "metadata": {},
   "outputs": [
    {
     "name": "stdout",
     "output_type": "stream",
     "text": [
      "start defineing the model\n",
      "Epoch 1/10 - Loss: 4.8026 - Accuracy: 0.0974\n",
      "Validation Loss: 3.5832 - Validation Accuracy: 0.2017\n",
      "Epoch 2/10 - Loss: 4.3664 - Accuracy: 0.1244\n",
      "Validation Loss: 3.9695 - Validation Accuracy: 0.1296\n",
      "Epoch 3/10 - Loss: 4.3209 - Accuracy: 0.1150\n",
      "Validation Loss: 3.9651 - Validation Accuracy: 0.1409\n",
      "Epoch 4/10 - Loss: 4.3556 - Accuracy: 0.1116\n",
      "Validation Loss: 4.0962 - Validation Accuracy: 0.1270\n",
      "Epoch 5/10 - Loss: 4.3654 - Accuracy: 0.1061\n",
      "Validation Loss: 4.1578 - Validation Accuracy: 0.1094\n",
      "Epoch 6/10 - Loss: 4.3484 - Accuracy: 0.1079\n",
      "Validation Loss: 4.0925 - Validation Accuracy: 0.1270\n",
      "Epoch 7/10 - Loss: 4.3482 - Accuracy: 0.1114\n",
      "Validation Loss: 4.0967 - Validation Accuracy: 0.1233\n",
      "Epoch 8/10 - Loss: 4.2754 - Accuracy: 0.1117\n",
      "Validation Loss: 4.0921 - Validation Accuracy: 0.1228\n",
      "Epoch 9/10 - Loss: 4.3531 - Accuracy: 0.1113\n",
      "Validation Loss: 4.1115 - Validation Accuracy: 0.1208\n",
      "Epoch 10/10 - Loss: 4.3506 - Accuracy: 0.1081\n",
      "Validation Loss: 4.0617 - Validation Accuracy: 0.1304\n"
     ]
    }
   ],
   "source": [
    "delete_all_augmented(train_path)\n",
    "reset_data(train_path, test_path)\n",
    "split_data(train_path, test_path)\n",
    "augment_images(train _path)\n",
    "train_cross_entropy_1, train_accuracy_1, test_cross_entropy_1, test_accuracy_1 = train_the_model()\n",
    "delete_all_augmented(train_path)\n",
    "reset_data(train_path, test_path)\n",
    "split_data(train_path, test_path)\n",
    "augment_images(train_path)\n",
    "train_cross_entropy_2, train_accuracy_2, test_cross_entropy_2, test_accuracy_2 = train_the_model()"
   ]
  },
  {
   "cell_type": "code",
   "execution_count": null,
   "id": "3742b1bf",
   "metadata": {},
   "outputs": [],
   "source": []
  },
  {
   "cell_type": "code",
   "execution_count": null,
   "id": "5c2d71fe",
   "metadata": {},
   "outputs": [],
   "source": []
  },
  {
   "cell_type": "code",
   "execution_count": 11,
   "id": "16679a7c",
   "metadata": {},
   "outputs": [],
   "source": [
    "save_path = os.path.join(base_path, 'vgg ypred ytrue')\n",
    "# np.savetxt(os.path.join(save_path,'train_accuracy_1.txt'), train_accuracy_1)\n",
    "# np.savetxt(os.path.join(save_path,'test_accuracy_1.txt'), test_accuracy_1)\n",
    "# np.savetxt(os.path.join(save_path,'train_cross_entropy_1.txt'), train_cross_entropy_1)\n",
    "# np.savetxt(os.path.join(save_path,'test_cross_entropy_1.txt'), test_cross_entropy_1)\n",
    "\n",
    "np.savetxt(os.path.join(save_path,'train_accuracy_2.txt'), train_accuracy_2)\n",
    "np.savetxt(os.path.join(save_path,'test_accuracy_2.txt'), test_accuracy_2)\n",
    "np.savetxt(os.path.join(save_path,'train_cross_entropy_2.txt'), train_cross_entropy_2)\n",
    "np.savetxt(os.path.join(save_path,'test_cross_entropy_2.txt'), test_cross_entropy_2)"
   ]
  },
  {
   "cell_type": "code",
   "execution_count": 9,
   "id": "6e944ed6",
   "metadata": {},
   "outputs": [],
   "source": [
    "save_path = os.path.join(base_path, 'vgg ypred ytrue')\n",
    "train_accuracy_1 = np.loadtxt(os.path.join(save_path,'train_accuracy_1.txt'))\n",
    "test_accuracy_1 = np.loadtxt(os.path.join(save_path,'test_accuracy_1.txt'))\n",
    "train_cross_entropy_1 = np.loadtxt(os.path.join(save_path,'train_cross_entropy_1.txt'))\n",
    "test_cross_entropy_1 = np.loadtxt(os.path.join(save_path,'test_cross_entropy_1.txt'))\n",
    "\n",
    "train_accuracy_2 = np.loadtxt(os.path.join(save_path,'train_accuracy_2.txt'))\n",
    "test_accuracy_2 = np.loadtxt(os.path.join(save_path,'test_accuracy_2.txt'))\n",
    "train_cross_entropy_2 = np.loadtxt(os.path.join(save_path,'train_cross_entropy_2.txt'))\n",
    "test_cross_entropy_2 = np.loadtxt(os.path.join(save_path,'test_cross_entropy_2.txt'))"
   ]
  },
  {
   "cell_type": "code",
   "execution_count": null,
   "id": "60ef1dea",
   "metadata": {},
   "outputs": [],
   "source": []
  },
  {
   "cell_type": "code",
   "execution_count": 10,
   "id": "354ea962",
   "metadata": {},
   "outputs": [
    {
     "data": {
      "text/plain": [
       "(array([4.80259767, 4.36642287, 4.32090874, 4.35564447, 4.36542696,\n",
       "        4.34836734, 4.34819845, 4.27543524, 4.35310319, 4.35061835]),\n",
       " array([0.09741211, 0.12444196, 0.11495536, 0.11157227, 0.10606166,\n",
       "        0.10794503, 0.111363  , 0.1116769 , 0.11129325, 0.10811942]),\n",
       " array([3.58315842, 3.96954712, 3.9651203 , 4.09621152, 4.1577687 ,\n",
       "        4.0925046 , 4.09671057, 4.09210476, 4.1114972 , 4.0616556 ]),\n",
       " array([0.20166016, 0.12963867, 0.14086914, 0.12695312, 0.109375  ,\n",
       "        0.12695312, 0.12329102, 0.12280273, 0.12084961, 0.13037109]))"
      ]
     },
     "execution_count": 10,
     "metadata": {},
     "output_type": "execute_result"
    }
   ],
   "source": [
    "train_cross_entropy_2, train_accuracy_2, test_cross_entropy_2, test_accuracy_2"
   ]
  },
  {
   "cell_type": "code",
   "execution_count": 17,
   "id": "aaf01b63",
   "metadata": {},
   "outputs": [],
   "source": [
    "train_accuracy_average = (train_accuracy_1 + train_accuracy_2) /2\n",
    "test_accuracy_average = (test_accuracy_1 + test_accuracy_2) /2"
   ]
  },
  {
   "cell_type": "code",
   "execution_count": 19,
   "id": "abb3a71a",
   "metadata": {},
   "outputs": [
    {
     "data": {
      "image/png": "[encoded data removed]",
      "text/plain": [
       "<Figure size 640x480 with 1 Axes>"
      ]
     },
     "metadata": {},
     "output_type": "display_data"
    }
   ],
   "source": [
    "plt.plot(range(len(train_accuracy_average)), train_accuracy_average,\n",
    "         label='Training')\n",
    "plt.plot(range(len(test_accuracy_average)), test_accuracy_average,\n",
    "         label='Validation')\n",
    "plt.ylabel('Accuracy')\n",
    "plt.xlabel('Epochs')\n",
    "plt.legend(loc='lower right')\n",
    "plt.title('Accuracy by epochs - vgg19')\n",
    "plt.show()"
   ]
  },
  {
   "cell_type": "code",
   "execution_count": 20,
   "id": "f22b27bf",
   "metadata": {},
   "outputs": [
    {
     "data": {
      "text/plain": [
       "0.122802734375"
      ]
     },
     "execution_count": 20,
     "metadata": {},
     "output_type": "execute_result"
    }
   ],
   "source": [
    "test_accuracy_average[-1]"
   ]
  },
  {
   "cell_type": "code",
   "execution_count": 21,
   "id": "44a2f99b",
   "metadata": {},
   "outputs": [],
   "source": [
    "train_cross_entropy_average = (train_cross_entropy_1 + train_cross_entropy_2) /2\n",
    "test_cross_entropy_average = (test_cross_entropy_1 + test_cross_entropy_2) /2"
   ]
  },
  {
   "cell_type": "code",
   "execution_count": 22,
   "id": "9c5a809f",
   "metadata": {},
   "outputs": [
    {
     "data": {
      "image/png": "[encoded data removed]",
      "text/plain": [
       "<Figure size 640x480 with 1 Axes>"
      ]
     },
     "metadata": {},
     "output_type": "display_data"
    }
   ],
   "source": [
    "plt.plot(range(len(train_cross_entropy_average)), train_cross_entropy_average,\n",
    "         label='Training')\n",
    "plt.plot(range(len(test_cross_entropy_average)), test_cross_entropy_average,\n",
    "         label='Validation')\n",
    "plt.ylabel('cross_entropy')\n",
    "plt.xlabel('Epochs')\n",
    "plt.legend(loc='lower right')\n",
    "plt.title('cross_entropy by epochs - vgg19')\n",
    "plt.show()"
   ]
  },
  {
   "cell_type": "code",
   "execution_count": 57,
   "id": "0286d54c",
   "metadata": {},
   "outputs": [],
   "source": []
  },
  {
   "cell_type": "code",
   "execution_count": null,
   "id": "76a04650",
   "metadata": {},
   "outputs": [],
   "source": []
  }
 ],
 "metadata": {
  "kernelspec": {
   "display_name": "kaggle",
   "language": "python",
   "name": "kaggle"
  },
  "language_info": {
   "codemirror_mode": {
    "name": "ipython",
    "version": 3
   },
   "file_extension": ".py",
   "mimetype": "text/x-python",
   "name": "python",
   "nbconvert_exporter": "python",
   "pygments_lexer": "ipython3",
   "version": "3.9.7"
  }
 },
 "nbformat": 4,
 "nbformat_minor": 5
}
