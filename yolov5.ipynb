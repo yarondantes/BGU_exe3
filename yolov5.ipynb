{
 "cells": [
  {
   "cell_type": "code",
   "execution_count": 8,
   "id": "df0821ba",
   "metadata": {},
   "outputs": [],
   "source": [
    "import sys\n",
    "# sys.path.insert(0, '..')\n",
    "import shutil\n",
    "import numpy as np\n",
    "from sklearn.metrics import roc_auc_score\n",
    "import torch\n",
    "from torch import nn\n",
    "from torch.utils.data import Dataset\n",
    "from torch.utils.data import DataLoader\n",
    "from torchvision.models import vgg19\n",
    "from torchvision import transforms\n",
    "from torchvision.datasets import ImageFolder\n",
    "from torchsummary import summary\n",
    "from utils import *\n",
    "import warnings \n",
    "import os\n",
    "warnings.filterwarnings(\"ignore\")\n",
    "import cv2\n",
    "import pickle\n",
    "import matplotlib.pyplot as plt\n",
    "%matplotlib inline"
   ]
  },
  {
   "cell_type": "code",
   "execution_count": 9,
   "id": "3ed229f9",
   "metadata": {},
   "outputs": [],
   "source": [
    "base_path = os.path.dirname(os.path.abspath('__file__'))\n",
    "data_path = os.path.join(base_path, 'data','data_for_vgg_augmented')\n",
    "train_path = os.path.join(data_path,'train')\n",
    "test_path = os.path.join(data_path,'test')"
   ]
  },
  {
   "cell_type": "code",
   "execution_count": 5,
   "id": "28a7cb12",
   "metadata": {},
   "outputs": [],
   "source": [
    "with open('classes.txt', 'rb') as f:\n",
    "    classes = pickle.load(f)"
   ]
  },
  {
   "cell_type": "code",
   "execution_count": 10,
   "id": "251ecbec",
   "metadata": {},
   "outputs": [],
   "source": [
    "# model_yolov5 = torch.hub.load('ultralytics/yolov5', 'yolov5s', pretrained=True, autoshape=False, force_reload=True, classes=len(classes))"
   ]
  },
  {
   "cell_type": "code",
   "execution_count": 30,
   "id": "2a9d2662",
   "metadata": {},
   "outputs": [
    {
     "name": "stderr",
     "output_type": "stream",
     "text": [
      "YOLOv5  v7.0-193-g485da42 Python-3.9.7 torch-2.0.1+cu118 CUDA:0 (NVIDIA GeForce RTX 3060 Laptop GPU, 6144MiB)\n",
      "\n",
      "Fusing layers... \n",
      "Model summary: 117 layers, 4297350 parameters, 0 gradients, 10.5 GFLOPs\n",
      "WARNING  YOLOv5 ClassificationModel is not yet AutoShape compatible. You must pass torch tensors in BCHW to this model, i.e. shape(1,3,224,224).\n"
     ]
    }
   ],
   "source": [
    "img_width, img_height = 224, 224\n",
    "device = \"cuda\" if torch.cuda.is_available() else \"cpu\"\n",
    "\n",
    "model_yolov5 = torch.hub.load(repo_or_dir = f'C:\\\\Users\\\\yaron\\\\projects\\\\BGU-lior_rokach\\\\exe3\\\\yolov5',model = 'custom', path = 'best.pt',force_reload=True,source='local')"
   ]
  },
  {
   "cell_type": "code",
   "execution_count": 37,
   "id": "083a8d0d",
   "metadata": {},
   "outputs": [
    {
     "name": "stdout",
     "output_type": "stream",
     "text": [
      "----------------------------------------------------------------\n",
      "        Layer (type)               Output Shape         Param #\n",
      "================================================================\n",
      "            Conv2d-1         [-1, 32, 122, 122]           3,488\n",
      "              SiLU-2         [-1, 32, 122, 122]               0\n",
      "              Conv-3         [-1, 32, 122, 122]               0\n",
      "            Conv2d-4           [-1, 64, 61, 61]          18,496\n",
      "              SiLU-5           [-1, 64, 61, 61]               0\n",
      "              Conv-6           [-1, 64, 61, 61]               0\n",
      "            Conv2d-7           [-1, 32, 61, 61]           2,080\n",
      "              SiLU-8           [-1, 32, 61, 61]               0\n",
      "              Conv-9           [-1, 32, 61, 61]               0\n",
      "           Conv2d-10           [-1, 32, 61, 61]           1,056\n",
      "             SiLU-11           [-1, 32, 61, 61]               0\n",
      "             Conv-12           [-1, 32, 61, 61]               0\n",
      "           Conv2d-13           [-1, 32, 61, 61]           9,248\n",
      "             SiLU-14           [-1, 32, 61, 61]               0\n",
      "             Conv-15           [-1, 32, 61, 61]               0\n",
      "       Bottleneck-16           [-1, 32, 61, 61]               0\n",
      "           Conv2d-17           [-1, 32, 61, 61]           2,080\n",
      "             SiLU-18           [-1, 32, 61, 61]               0\n",
      "             Conv-19           [-1, 32, 61, 61]               0\n",
      "           Conv2d-20           [-1, 64, 61, 61]           4,160\n",
      "             SiLU-21           [-1, 64, 61, 61]               0\n",
      "             Conv-22           [-1, 64, 61, 61]               0\n",
      "               C3-23           [-1, 64, 61, 61]               0\n",
      "           Conv2d-24          [-1, 128, 31, 31]          73,856\n",
      "             SiLU-25          [-1, 128, 31, 31]               0\n",
      "             Conv-26          [-1, 128, 31, 31]               0\n",
      "           Conv2d-27           [-1, 64, 31, 31]           8,256\n",
      "             SiLU-28           [-1, 64, 31, 31]               0\n",
      "             Conv-29           [-1, 64, 31, 31]               0\n",
      "           Conv2d-30           [-1, 64, 31, 31]           4,160\n",
      "             SiLU-31           [-1, 64, 31, 31]               0\n",
      "             Conv-32           [-1, 64, 31, 31]               0\n",
      "           Conv2d-33           [-1, 64, 31, 31]          36,928\n",
      "             SiLU-34           [-1, 64, 31, 31]               0\n",
      "             Conv-35           [-1, 64, 31, 31]               0\n",
      "       Bottleneck-36           [-1, 64, 31, 31]               0\n",
      "           Conv2d-37           [-1, 64, 31, 31]           4,160\n",
      "             SiLU-38           [-1, 64, 31, 31]               0\n",
      "             Conv-39           [-1, 64, 31, 31]               0\n",
      "           Conv2d-40           [-1, 64, 31, 31]          36,928\n",
      "             SiLU-41           [-1, 64, 31, 31]               0\n",
      "             Conv-42           [-1, 64, 31, 31]               0\n",
      "       Bottleneck-43           [-1, 64, 31, 31]               0\n",
      "           Conv2d-44           [-1, 64, 31, 31]           8,256\n",
      "             SiLU-45           [-1, 64, 31, 31]               0\n",
      "             Conv-46           [-1, 64, 31, 31]               0\n",
      "           Conv2d-47          [-1, 128, 31, 31]          16,512\n",
      "             SiLU-48          [-1, 128, 31, 31]               0\n",
      "             Conv-49          [-1, 128, 31, 31]               0\n",
      "               C3-50          [-1, 128, 31, 31]               0\n",
      "           Conv2d-51          [-1, 256, 16, 16]         295,168\n",
      "             SiLU-52          [-1, 256, 16, 16]               0\n",
      "             Conv-53          [-1, 256, 16, 16]               0\n",
      "           Conv2d-54          [-1, 128, 16, 16]          32,896\n",
      "             SiLU-55          [-1, 128, 16, 16]               0\n",
      "             Conv-56          [-1, 128, 16, 16]               0\n",
      "           Conv2d-57          [-1, 128, 16, 16]          16,512\n",
      "             SiLU-58          [-1, 128, 16, 16]               0\n",
      "             Conv-59          [-1, 128, 16, 16]               0\n",
      "           Conv2d-60          [-1, 128, 16, 16]         147,584\n",
      "             SiLU-61          [-1, 128, 16, 16]               0\n",
      "             Conv-62          [-1, 128, 16, 16]               0\n",
      "       Bottleneck-63          [-1, 128, 16, 16]               0\n",
      "           Conv2d-64          [-1, 128, 16, 16]          16,512\n",
      "             SiLU-65          [-1, 128, 16, 16]               0\n",
      "             Conv-66          [-1, 128, 16, 16]               0\n",
      "           Conv2d-67          [-1, 128, 16, 16]         147,584\n",
      "             SiLU-68          [-1, 128, 16, 16]               0\n",
      "             Conv-69          [-1, 128, 16, 16]               0\n",
      "       Bottleneck-70          [-1, 128, 16, 16]               0\n",
      "           Conv2d-71          [-1, 128, 16, 16]          16,512\n",
      "             SiLU-72          [-1, 128, 16, 16]               0\n",
      "             Conv-73          [-1, 128, 16, 16]               0\n",
      "           Conv2d-74          [-1, 128, 16, 16]         147,584\n",
      "             SiLU-75          [-1, 128, 16, 16]               0\n",
      "             Conv-76          [-1, 128, 16, 16]               0\n",
      "       Bottleneck-77          [-1, 128, 16, 16]               0\n",
      "           Conv2d-78          [-1, 128, 16, 16]          32,896\n",
      "             SiLU-79          [-1, 128, 16, 16]               0\n",
      "             Conv-80          [-1, 128, 16, 16]               0\n",
      "           Conv2d-81          [-1, 256, 16, 16]          65,792\n",
      "             SiLU-82          [-1, 256, 16, 16]               0\n",
      "             Conv-83          [-1, 256, 16, 16]               0\n",
      "               C3-84          [-1, 256, 16, 16]               0\n",
      "           Conv2d-85            [-1, 512, 8, 8]       1,180,160\n",
      "             SiLU-86            [-1, 512, 8, 8]               0\n",
      "             Conv-87            [-1, 512, 8, 8]               0\n",
      "           Conv2d-88            [-1, 256, 8, 8]         131,328\n",
      "             SiLU-89            [-1, 256, 8, 8]               0\n",
      "             Conv-90            [-1, 256, 8, 8]               0\n",
      "           Conv2d-91            [-1, 256, 8, 8]          65,792\n",
      "             SiLU-92            [-1, 256, 8, 8]               0\n",
      "             Conv-93            [-1, 256, 8, 8]               0\n",
      "           Conv2d-94            [-1, 256, 8, 8]         590,080\n",
      "             SiLU-95            [-1, 256, 8, 8]               0\n",
      "             Conv-96            [-1, 256, 8, 8]               0\n",
      "       Bottleneck-97            [-1, 256, 8, 8]               0\n",
      "           Conv2d-98            [-1, 256, 8, 8]         131,328\n",
      "             SiLU-99            [-1, 256, 8, 8]               0\n",
      "            Conv-100            [-1, 256, 8, 8]               0\n",
      "          Conv2d-101            [-1, 512, 8, 8]         262,656\n",
      "            SiLU-102            [-1, 512, 8, 8]               0\n",
      "            Conv-103            [-1, 512, 8, 8]               0\n",
      "              C3-104            [-1, 512, 8, 8]               0\n",
      "          Conv2d-105           [-1, 1280, 8, 8]         656,640\n",
      "            SiLU-106           [-1, 1280, 8, 8]               0\n",
      "            Conv-107           [-1, 1280, 8, 8]               0\n",
      "AdaptiveAvgPool2d-108           [-1, 1280, 1, 1]               0\n",
      "         Dropout-109                 [-1, 1280]               0\n",
      "          Linear-110                  [-1, 102]         130,662\n",
      "        Classify-111                  [-1, 102]               0\n",
      "ClassificationModel-112                  [-1, 102]               0\n",
      "================================================================\n",
      "Total params: 4,297,350\n",
      "Trainable params: 0\n",
      "Non-trainable params: 4,297,350\n",
      "----------------------------------------------------------------\n",
      "Input size (MB): 0.68\n",
      "Forward/backward pass size (MB): 66.91\n",
      "Params size (MB): 16.39\n",
      "Estimated Total Size (MB): 83.98\n",
      "----------------------------------------------------------------\n"
     ]
    }
   ],
   "source": [
    "summary(model_yolov5, (3,244,244))"
   ]
  },
  {
   "cell_type": "code",
   "execution_count": 40,
   "id": "a7a53953",
   "metadata": {},
   "outputs": [
    {
     "data": {
      "text/plain": [
       "'C:\\\\Users\\\\yaron\\\\projects\\\\BGU-lior_rokach\\\\exe3\\\\data\\\\data_for_vgg_augmented'"
      ]
     },
     "execution_count": 40,
     "metadata": {},
     "output_type": "execute_result"
    }
   ],
   "source": [
    "base_path = os.path.dirname(os.path.abspath('__file__'))\n",
    "labels_file = os.path.join(base_path,'data')\n",
    "data_path = os.path.join(base_path, 'data','data_for_vgg_augmented')\n",
    "data_path"
   ]
  },
  {
   "cell_type": "code",
   "execution_count": 41,
   "id": "447d0469",
   "metadata": {},
   "outputs": [],
   "source": [
    "def run_the_model(model_yolov5):\n",
    "    print('running yolov5 model')    \n",
    "    \n",
    "    # Define the transformation for the input images\n",
    "    transform = transforms.Compose([\n",
    "        transforms.Resize((img_width, img_height)),\n",
    "        transforms.ToTensor(),\n",
    "        transforms.Normalize(mean=[0.485, 0.456, 0.406], std=[0.229, 0.224, 0.225])\n",
    "    ])\n",
    "\n",
    "    # Load the dataset\n",
    "    train_data_dir = os.path.join(data_path, 'train')\n",
    "    validation_data_dir = os.path.join(data_path, 'test')\n",
    "\n",
    "    train_dataset = ImageFolder(train_data_dir, transform=transform)\n",
    "    validation_dataset = ImageFolder(validation_data_dir, transform=transform)\n",
    "\n",
    "    # Create data loaders\n",
    "    batch_size = 4\n",
    "    train_loader = DataLoader(train_dataset, batch_size=batch_size, shuffle=True, num_workers=4)\n",
    "    validation_loader = DataLoader(validation_dataset, batch_size=batch_size, shuffle=False, num_workers=4)\n",
    "\n",
    "    # Move the model to the device\n",
    "    model_yolov5 = model_yolov5.to(device)\n",
    "\n",
    "    \n",
    "    # Define the loss function\n",
    "    loss_fn = nn.CrossEntropyLoss()\n",
    "    \n",
    "    # log statistics\n",
    "    train_accuracy_per_epoch = []\n",
    "    train_cross_entropy_per_epoch = []\n",
    "    test_accuracy_per_epoch = []\n",
    "    test_cross_entropy_per_epoch = []\n",
    "\n",
    "    train_predicted_labels = []\n",
    "    train_true_labels = []\n",
    "        \n",
    "\n",
    "    model_yolov5.eval()\n",
    "    with torch.no_grad():\n",
    "        train_loss, train_acc = 0, 0\n",
    "        for inputs, y_true in train_loader:\n",
    "            inputs = inputs.to(device)\n",
    "            y_true = y_true.to(device)\n",
    "\n",
    "            y_pred = model_yolov5(inputs)\n",
    "\n",
    "            loss = loss_fn(y_pred, y_true)\n",
    "            train_loss += loss.item() \n",
    "\n",
    "\n",
    "\n",
    "\n",
    "            # Calculate and accumulate accuracy metric across all batches\n",
    "            y_pred_class = torch.argmax(torch.softmax(y_pred, dim=1), dim=1)\n",
    "            train_acc += (y_pred_class == y_true).sum().item()/len(y_pred)\n",
    "\n",
    "            train_predicted_labels.append(y_pred_class)\n",
    "            train_true_labels.append(y_true)\n",
    "\n",
    "         # Adjust metrics to get average loss and accuracy per batch \n",
    "        train_loss = train_loss / len(train_loader)\n",
    "        train_acc = train_acc / len(train_loader)\n",
    "\n",
    "        \n",
    "\n",
    "    train_cross_entropy_per_epoch.append(train_loss)\n",
    "    train_accuracy_per_epoch.append(train_acc)\n",
    "\n",
    "\n",
    "    model_yolov5.eval()\n",
    "    \n",
    "    test_predicted_labels = []\n",
    "    test_true_labels = []\n",
    "    \n",
    "    with torch.no_grad():\n",
    "        test_loss, test_acc = 0, 0\n",
    "\n",
    "        for inputs, y_true in validation_loader:\n",
    "            inputs = inputs.to(device)\n",
    "            y_true = y_true.to(device)\n",
    "\n",
    "            y_pred = model_yolov5(inputs)\n",
    "\n",
    "            loss = loss_fn(y_pred, y_true)\n",
    "            test_loss += loss.item()\n",
    "\n",
    "\n",
    "            y_pred_class = torch.argmax(torch.softmax(y_pred, dim=1), dim=1)\n",
    "            test_acc += (y_pred_class == y_true).sum().item()/len(y_pred)\n",
    "\n",
    "            test_predicted_labels.append(y_pred_class)\n",
    "            test_true_labels.append(y_true)\n",
    "            \n",
    "        # Adjust metrics to get average loss and accuracy per batch \n",
    "        test_loss = test_loss / len(validation_loader)\n",
    "        test_acc = test_acc / len(validation_loader)\n",
    "\n",
    "\n",
    "        test_cross_entropy_per_epoch.append(test_loss)\n",
    "        test_accuracy_per_epoch.append(test_acc)\n",
    "\n",
    "    \n",
    "    return train_cross_entropy_per_epoch, test_cross_entropy_per_epoch,  \\\n",
    "            train_predicted_labels, train_true_labels, test_predicted_labels, test_true_labels\n",
    "\n",
    "\n"
   ]
  },
  {
   "cell_type": "code",
   "execution_count": 42,
   "id": "cfd73365",
   "metadata": {},
   "outputs": [],
   "source": [
    "train_cross_entropy_per_epoch, test_cross_entropy_per_epoch, \\\n",
    "train_predicted_labels, train_true_labels, test_predicted_labels, test_true_labels = run_the_model(model_yolov5)"
   ]
  },
  {
   "cell_type": "code",
   "execution_count": 57,
   "id": "f85d0f64",
   "metadata": {},
   "outputs": [],
   "source": [
    "train_predicted_labels_numpy = torch.concatenate(train_predicted_labels).detach().cpu().numpy()\n",
    "train_true_labels_numpy = torch.concatenate(train_true_labels).detach().cpu().numpy()\n",
    "\n",
    "test_predicted_labels_numpy = torch.concatenate(test_predicted_labels).detach().cpu().numpy()\n",
    "test_true_labels_numpy = torch.concatenate(test_true_labels).detach().cpu().numpy()"
   ]
  },
  {
   "cell_type": "code",
   "execution_count": 58,
   "id": "d1272d85",
   "metadata": {},
   "outputs": [],
   "source": [
    "from sklearn.metrics import confusion_matrix"
   ]
  },
  {
   "cell_type": "code",
   "execution_count": 68,
   "id": "954270e1",
   "metadata": {},
   "outputs": [
    {
     "data": {
      "text/plain": [
       "array([[ 72,   0,   1, ...,   0,   0,   0],\n",
       "       [  0, 189,   0, ...,   0,   0,   0],\n",
       "       [  1,   0,  70, ...,   1,   0,   0],\n",
       "       ...,\n",
       "       [  0,   1,   0, ..., 136,   0,   0],\n",
       "       [  0,   0,   0, ...,   0,  33,   0],\n",
       "       [  0,   0,   0, ...,   0,   0, 100]], dtype=int64)"
      ]
     },
     "execution_count": 68,
     "metadata": {},
     "output_type": "execute_result"
    }
   ],
   "source": [
    "confusion_matrix(train_true_labels_numpy, train_predicted_labels_numpy)"
   ]
  },
  {
   "cell_type": "code",
   "execution_count": 69,
   "id": "df3b40e9",
   "metadata": {},
   "outputs": [
    {
     "data": {
      "text/plain": [
       "array([[13,  0,  0, ...,  0,  0,  0],\n",
       "       [ 0, 22,  0, ...,  0,  0,  0],\n",
       "       [ 1,  0, 15, ...,  0,  0,  0],\n",
       "       ...,\n",
       "       [ 0,  0,  0, ..., 23,  0,  0],\n",
       "       [ 0,  0,  0, ...,  0,  4,  0],\n",
       "       [ 0,  0,  0, ...,  0,  0, 13]], dtype=int64)"
      ]
     },
     "execution_count": 69,
     "metadata": {},
     "output_type": "execute_result"
    }
   ],
   "source": [
    "confusion_matrix(test_true_labels_numpy, test_predicted_labels_numpy)"
   ]
  },
  {
   "cell_type": "code",
   "execution_count": 65,
   "id": "9f55ef93",
   "metadata": {},
   "outputs": [],
   "source": [
    "labels_names = []\n",
    "train_path = os.path.join(data_path, 'train')\n",
    "for class_name in os.listdir(train_path):\n",
    "    labels_names.append(class_name)"
   ]
  },
  {
   "cell_type": "code",
   "execution_count": 70,
   "id": "aa2db100",
   "metadata": {},
   "outputs": [],
   "source": [
    "# labels_names"
   ]
  },
  {
   "cell_type": "code",
   "execution_count": 84,
   "id": "2c6c0eac",
   "metadata": {},
   "outputs": [],
   "source": [
    "from scikitplot.metrics import plot_confusion_matrix\n",
    "from sklearn.metrics import accuracy_score"
   ]
  },
  {
   "cell_type": "code",
   "execution_count": 86,
   "id": "951e24f8",
   "metadata": {},
   "outputs": [
    {
     "data": {
      "text/plain": [
       "(0.33276325433667236, 0.36087472098214285)"
      ]
     },
     "execution_count": 86,
     "metadata": {},
     "output_type": "execute_result"
    }
   ],
   "source": [
    "# plot_confusion_matrix(test_true_labels_numpy, test_predicted_labels_numpy)\n",
    "# plt.show()\n",
    "accuracy_score(test_true_labels_numpy, test_predicted_labels_numpy), accuracy_score(train_true_labels_numpy, train_predicted_labels_numpy)"
   ]
  },
  {
   "cell_type": "code",
   "execution_count": 95,
   "id": "a3762565",
   "metadata": {},
   "outputs": [],
   "source": [
    "# import sys\n",
    "# np.set_printoptions(threshold=sys.maxsize)\n",
    "# with numpy.printoptions(threshold=numpy.inf):\n",
    "#     print(arr)"
   ]
  },
  {
   "cell_type": "code",
   "execution_count": 94,
   "id": "a17f6a16",
   "metadata": {},
   "outputs": [
    {
     "data": {
      "text/plain": [
       "(1362, 10347)"
      ]
     },
     "execution_count": 94,
     "metadata": {},
     "output_type": "execute_result"
    }
   ],
   "source": [
    "confusion_matrix(test_true_labels_numpy, test_predicted_labels_numpy).diagonal().sum(), confusion_matrix(train_true_labels_numpy, train_predicted_labels_numpy).diagonal().sum()"
   ]
  },
  {
   "cell_type": "code",
   "execution_count": 96,
   "id": "d6d312fe",
   "metadata": {},
   "outputs": [],
   "source": [
    "save_path = os.path.join(base_path, 'yolo ypred ytrue')\n",
    "np.savetxt(os.path.join(save_path,'train_true_labels_numpy.txt'), train_true_labels_numpy )\n",
    "np.savetxt(os.path.join(save_path,'train_predicted_labels_numpy.txt'), train_predicted_labels_numpy)\n",
    "np.savetxt(os.path.join(save_path,'test_true_labels_numpy.txt'), test_true_labels_numpy)\n",
    "np.savetxt(os.path.join(save_path,'test_predicted_labels_numpy.txt'), test_predicted_labels_numpy)"
   ]
  },
  {
   "cell_type": "code",
   "execution_count": 11,
   "id": "d3917d23",
   "metadata": {},
   "outputs": [],
   "source": [
    "save_path = os.path.join(base_path, 'yolo ypred ytrue')\n",
    "train_true_labels_numpy = np.loadtxt(os.path.join(save_path,'train_true_labels_numpy.txt'))\n",
    "train_predicted_labels_numpy = np.loadtxt(os.path.join(save_path,'train_predicted_labels_numpy.txt'))\n",
    "test_true_labels_numpy = np.loadtxt(os.path.join(save_path,'test_true_labels_numpy.txt'))\n",
    "test_predicted_labels_numpy = np.loadtxt(os.path.join(save_path,'test_predicted_labels_numpy.txt'))\n"
   ]
  },
  {
   "cell_type": "code",
   "execution_count": 12,
   "id": "c685d0ce",
   "metadata": {},
   "outputs": [
    {
     "data": {
      "text/plain": [
       "array([         30,          28,          39, ...,          58,          20,          66])"
      ]
     },
     "execution_count": 12,
     "metadata": {},
     "output_type": "execute_result"
    }
   ],
   "source": [
    "train_true_labels_numpy"
   ]
  },
  {
   "cell_type": "code",
   "execution_count": null,
   "id": "3f5553f3",
   "metadata": {},
   "outputs": [],
   "source": []
  },
  {
   "cell_type": "code",
   "execution_count": null,
   "id": "ad449107",
   "metadata": {},
   "outputs": [],
   "source": []
  },
  {
   "cell_type": "code",
   "execution_count": null,
   "id": "6a82b7ee",
   "metadata": {},
   "outputs": [],
   "source": []
  },
  {
   "cell_type": "code",
   "execution_count": null,
   "id": "128c6764",
   "metadata": {},
   "outputs": [],
   "source": []
  },
  {
   "cell_type": "code",
   "execution_count": null,
   "id": "12057446",
   "metadata": {},
   "outputs": [],
   "source": []
  },
  {
   "cell_type": "code",
   "execution_count": 80,
   "id": "7be4c470",
   "metadata": {},
   "outputs": [
    {
     "name": "stderr",
     "output_type": "stream",
     "text": [
      "C:\\Users\\yaron\\anaconda3\\lib\\site-packages\\torchvision\\io\\image.py:13: UserWarning: Failed to load image Python extension: [WinError 127] The specified procedure could not be found\n",
      "  warn(f\"Failed to load image Python extension: {e}\")\n",
      "Traceback (most recent call last):\n",
      "  File \"C:\\Users\\yaron\\projects\\BGU-lior_rokach\\exe3\\yolov5\\train.py\", line 61, in <module>\n",
      "    from utils.loggers import Loggers\n",
      "  File \"C:\\Users\\yaron\\projects\\BGU-lior_rokach\\exe3\\yolov5\\utils\\loggers\\__init__.py\", line 15, in <module>\n",
      "    from utils.loggers.wandb.wandb_utils import WandbLogger\n",
      "  File \"C:\\Users\\yaron\\projects\\BGU-lior_rokach\\exe3\\yolov5\\utils\\loggers\\wandb\\wandb_utils.py\", line 23, in <module>\n",
      "    import wandb\n",
      "  File \"C:\\Users\\yaron\\anaconda3\\lib\\site-packages\\wandb\\__init__.py\", line 197, in <module>\n",
      "    from .analytics import Sentry as _Sentry\n",
      "  File \"C:\\Users\\yaron\\anaconda3\\lib\\site-packages\\wandb\\analytics\\__init__.py\", line 3, in <module>\n",
      "    from .sentry import Sentry\n",
      "  File \"C:\\Users\\yaron\\anaconda3\\lib\\site-packages\\wandb\\analytics\\sentry.py\", line 18, in <module>\n",
      "    import sentry_sdk  # type: ignore\n",
      "  File \"C:\\Users\\yaron\\anaconda3\\lib\\site-packages\\sentry_sdk\\__init__.py\", line 1, in <module>\n",
      "    from sentry_sdk.hub import Hub, init\n",
      "  File \"C:\\Users\\yaron\\anaconda3\\lib\\site-packages\\sentry_sdk\\hub.py\", line 9, in <module>\n",
      "    from sentry_sdk.scope import Scope\n",
      "  File \"C:\\Users\\yaron\\anaconda3\\lib\\site-packages\\sentry_sdk\\scope.py\", line 7, in <module>\n",
      "    from sentry_sdk.utils import logger, capture_internal_exceptions\n",
      "  File \"C:\\Users\\yaron\\anaconda3\\lib\\site-packages\\sentry_sdk\\utils.py\", line 1039, in <module>\n",
      "    HAS_REAL_CONTEXTVARS, ContextVar = _get_contextvars()\n",
      "  File \"C:\\Users\\yaron\\anaconda3\\lib\\site-packages\\sentry_sdk\\utils.py\", line 1009, in _get_contextvars\n",
      "    if not _is_contextvars_broken():\n",
      "  File \"C:\\Users\\yaron\\anaconda3\\lib\\site-packages\\sentry_sdk\\utils.py\", line 943, in _is_contextvars_broken\n",
      "    import gevent  # type: ignore\n",
      "  File \"C:\\Users\\yaron\\anaconda3\\lib\\site-packages\\gevent\\__init__.py\", line 86, in <module>\n",
      "    from gevent._hub_local import get_hub\n",
      "  File \"C:\\Users\\yaron\\anaconda3\\lib\\site-packages\\gevent\\_hub_local.py\", line 101, in <module>\n",
      "    import_c_accel(globals(), 'gevent.__hub_local')\n",
      "  File \"C:\\Users\\yaron\\anaconda3\\lib\\site-packages\\gevent\\_util.py\", line 148, in import_c_accel\n",
      "    mod = importlib.import_module(cname)\n",
      "  File \"C:\\Users\\yaron\\anaconda3\\lib\\importlib\\__init__.py\", line 127, in import_module\n",
      "    return _bootstrap._gcd_import(name[level:], package, level)\n",
      "  File \"src/gevent/_hub_local.py\", line 1, in init gevent._gevent_c_hub_local\n",
      "ValueError: greenlet.greenlet size changed, may indicate binary incompatibility. Expected 152 from C header, got 40 from PyObject\n"
     ]
    }
   ],
   "source": [
    "!python C:\\\\Users\\\\yaron\\projects\\\\BGU-lior_rokach\\\\exe3\\\\yolov5\\\\train.py --img 640 --batch 16 --epochs 3 --data my_yolov5s.yaml --weights yolov5s.pt"
   ]
  },
  {
   "cell_type": "code",
   "execution_count": 1,
   "id": "0ff756d3",
   "metadata": {},
   "outputs": [
    {
     "ename": "NameError",
     "evalue": "name 'classes' is not defined",
     "output_type": "error",
     "traceback": [
      "\u001b[1;31m---------------------------------------------------------------------------\u001b[0m",
      "\u001b[1;31mNameError\u001b[0m                                 Traceback (most recent call last)",
      "Cell \u001b[1;32mIn[1], line 1\u001b[0m\n\u001b[1;32m----> 1\u001b[0m \u001b[43mclasses\u001b[49m\n",
      "\u001b[1;31mNameError\u001b[0m: name 'classes' is not defined"
     ]
    }
   ],
   "source": [
    "classes"
   ]
  },
  {
   "cell_type": "code",
   "execution_count": null,
   "id": "a97accca",
   "metadata": {},
   "outputs": [],
   "source": []
  }
 ],
 "metadata": {
  "kernelspec": {
   "display_name": "kaggle",
   "language": "python",
   "name": "kaggle"
  },
  "language_info": {
   "codemirror_mode": {
    "name": "ipython",
    "version": 3
   },
   "file_extension": ".py",
   "mimetype": "text/x-python",
   "name": "python",
   "nbconvert_exporter": "python",
   "pygments_lexer": "ipython3",
   "version": "3.9.7"
  }
 },
 "nbformat": 4,
 "nbformat_minor": 5
}
