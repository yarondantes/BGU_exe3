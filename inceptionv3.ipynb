{
 "cells": [
  {
   "cell_type": "code",
   "execution_count": 1,
   "id": "df0821ba",
   "metadata": {},
   "outputs": [],
   "source": [
    "import sys\n",
    "import pickle\n",
    "import glob\n",
    "import shutil\n",
    "import numpy as np\n",
    "import pandas as pd\n",
    "from sklearn.metrics import roc_auc_score\n",
    "import torch\n",
    "from torch.utils.data import Dataset\n",
    "from torch.utils.data import DataLoader\n",
    "from torchvision.models import vgg19, inception_v3\n",
    "from torch import nn\n",
    "import torch.optim as optim\n",
    "from torchvision import transforms\n",
    "from torchvision.datasets import ImageFolder\n",
    "from torchsummary import summary\n",
    "from torchinfo import summary\n",
    "from utils import *\n",
    "import warnings \n",
    "import os\n",
    "warnings.filterwarnings(\"ignore\")\n",
    "import cv2\n",
    "from mat4py import loadmat\n",
    "\n",
    "import matplotlib.pyplot as plt\n",
    "\n",
    "%matplotlib inline"
   ]
  },
  {
   "cell_type": "code",
   "execution_count": 2,
   "id": "18966736",
   "metadata": {},
   "outputs": [],
   "source": [
    "base_path = os.path.dirname(os.path.abspath('__file__'))\n",
    "data_path = os.path.join(base_path, 'data','data_for_vgg_augmented')\n",
    "train_path = os.path.join(data_path,'train')\n",
    "test_path = os.path.join(data_path,'test')"
   ]
  },
  {
   "cell_type": "code",
   "execution_count": 3,
   "id": "d29f3812",
   "metadata": {},
   "outputs": [],
   "source": [
    "with open('classes.txt', 'rb') as f:\n",
    "    classes = pickle.load(f)"
   ]
  },
  {
   "cell_type": "markdown",
   "id": "09f9f8b5",
   "metadata": {},
   "source": [
    "## build the model"
   ]
  },
  {
   "cell_type": "code",
   "execution_count": 4,
   "id": "b7d44f06",
   "metadata": {},
   "outputs": [
    {
     "data": {
      "text/plain": [
       "'cuda'"
      ]
     },
     "execution_count": 4,
     "metadata": {},
     "output_type": "execute_result"
    }
   ],
   "source": [
    "num_of_classes = len(classes)\n",
    "img_width, img_height = 299, 299\n",
    "device = \"cuda\" if torch.cuda.is_available() else \"cpu\"\n",
    "torch.cuda.empty_cache()\n",
    "device"
   ]
  },
  {
   "cell_type": "code",
   "execution_count": 5,
   "id": "447d0469",
   "metadata": {},
   "outputs": [],
   "source": [
    "def train_the_model():\n",
    "    print('start defineing the model')\n",
    "    # define the model\n",
    "    model_inception_v3 = inception_v3(pretrained=True)\n",
    "    \n",
    "    \n",
    "    # freeze feature layers\n",
    "    for param in model_inception_v3.parameters():\n",
    "        param.requires_grad = False\n",
    "    \n",
    "    # replace classification layer\n",
    "    model_inception_v3.fc = nn.Linear(in_features=2048, out_features = num_of_classes)\n",
    "    \n",
    "    # Define the transformation for the input images\n",
    "    preprocess = transforms.Compose([\n",
    "        transforms.Resize(299),\n",
    "        transforms.CenterCrop(299),\n",
    "        transforms.ToTensor(),\n",
    "        transforms.Normalize(mean=[0.485, 0.456, 0.406], std=[0.229, 0.224, 0.225]),\n",
    "\n",
    "    ])\n",
    "\n",
    "    # Load the dataset\n",
    "    train_data_dir = os.path.join(data_path, 'train')\n",
    "    validation_data_dir = os.path.join(data_path, 'test')\n",
    "\n",
    "    train_dataset = ImageFolder(train_data_dir, transform=preprocess)\n",
    "    validation_dataset = ImageFolder(validation_data_dir, transform=preprocess)\n",
    "\n",
    "    # Create data loaders\n",
    "    batch_size = 4\n",
    "    train_loader = DataLoader(train_dataset, batch_size=batch_size, shuffle=True, num_workers=4)\n",
    "    validation_loader = DataLoader(validation_dataset, batch_size=batch_size, shuffle=False, num_workers=4)\n",
    "\n",
    "    # Move the model to the device\n",
    "    model_inception_v3 = model_inception_v3.to(device)\n",
    "\n",
    "    # Define the loss function and optimizer\n",
    "    loss_fn = nn.CrossEntropyLoss()\n",
    "    optimizer = optim.Adam(model_inception_v3.parameters(), lr=0.001)\n",
    "\n",
    "    # Train the model\n",
    "    epochs = 10\n",
    "\n",
    "    # document statistics\n",
    "    train_accuracy_per_epoch = []\n",
    "    train_cross_entropy_per_epoch = []\n",
    "    test_accuracy_per_epoch = []\n",
    "    test_cross_entropy_per_epoch = []\n",
    "\n",
    "    for epoch in range(epochs):\n",
    "        train_loss, train_acc = 0, 0\n",
    "\n",
    "        model_inception_v3.train()\n",
    "        for inputs, y_true in train_loader:\n",
    "            inputs = inputs.to(device)\n",
    "            y_true = y_true.to(device)\n",
    "\n",
    "            y_pred = model_inception_v3(inputs)\n",
    "            y_pred = y_pred[0]\n",
    "            \n",
    "            loss = loss_fn(y_pred, y_true)\n",
    "            train_loss += loss.item() \n",
    "\n",
    "            optimizer.zero_grad() \n",
    "\n",
    "            loss.backward()\n",
    "\n",
    "            optimizer.step()\n",
    "\n",
    "\n",
    "            # Calculate and accumulate accuracy metric across all batches\n",
    "            y_pred_class = torch.argmax(torch.softmax(y_pred, dim=1), dim=1)\n",
    "            train_acc += (y_pred_class == y_true).sum().item()/len(y_pred)\n",
    "\n",
    "\n",
    "         # Adjust metrics to get average loss and accuracy per batch \n",
    "        train_loss = train_loss / len(train_loader)\n",
    "        train_acc = train_acc / len(train_loader)\n",
    "\n",
    "        print(f\"Epoch {epoch + 1}/{epochs} - Loss: {train_loss:.4f} - Accuracy: {train_acc:.4f}\")\n",
    "\n",
    "        train_cross_entropy_per_epoch.append(train_loss)\n",
    "        train_accuracy_per_epoch.append(train_acc)\n",
    "\n",
    "\n",
    "        model_inception_v3.eval()\n",
    "        with torch.no_grad():\n",
    "            test_loss, test_acc = 0, 0\n",
    "\n",
    "            for inputs, y_true in validation_loader:\n",
    "                inputs = inputs.to(device)\n",
    "                y_true = y_true.to(device)\n",
    "\n",
    "                y_pred = model_inception_v3(inputs)\n",
    "#                 y_pred = y_pred[0]\n",
    "                    \n",
    "                loss = loss_fn(y_pred, y_true)\n",
    "                test_loss += loss.item()\n",
    "\n",
    "\n",
    "                y_pred_class = torch.argmax(torch.softmax(y_pred, dim=1), dim=1)\n",
    "                test_acc += (y_pred_class == y_true).sum().item()/len(y_pred)\n",
    "\n",
    "            # Adjust metrics to get average loss and accuracy per batch \n",
    "            test_loss = test_loss / len(validation_loader)\n",
    "            test_acc = test_acc / len(validation_loader)\n",
    "\n",
    "            print(f\"Validation Loss: {test_loss:.4f} - Validation Accuracy: {test_acc:.4f}\")\n",
    "\n",
    "            test_cross_entropy_per_epoch.append(test_loss)\n",
    "            test_accuracy_per_epoch.append(test_acc)\n",
    "\n",
    "    # Save the trained model\n",
    "#     torch.save(model_inception_v3.state_dict(), 'inceptionv3_101_classes_model.pth')\n",
    "    \n",
    "    return train_cross_entropy_per_epoch, train_accuracy_per_epoch, test_cross_entropy_per_epoch, test_accuracy_per_epoch\n",
    "\n"
   ]
  },
  {
   "cell_type": "code",
   "execution_count": 6,
   "id": "3428f173",
   "metadata": {},
   "outputs": [
    {
     "name": "stdout",
     "output_type": "stream",
     "text": [
      "start defineing the model\n",
      "Epoch 1/10 - Loss: 2.3816 - Accuracy: 0.4251\n",
      "Validation Loss: 0.8554 - Validation Accuracy: 0.7688\n",
      "Epoch 2/10 - Loss: 1.7110 - Accuracy: 0.5678\n",
      "Validation Loss: 0.8261 - Validation Accuracy: 0.7900\n",
      "Epoch 3/10 - Loss: 1.6596 - Accuracy: 0.5966\n",
      "Validation Loss: 0.8742 - Validation Accuracy: 0.7957\n",
      "Epoch 4/10 - Loss: 1.6633 - Accuracy: 0.6120\n",
      "Validation Loss: 0.8767 - Validation Accuracy: 0.7981\n",
      "Epoch 5/10 - Loss: 1.6797 - Accuracy: 0.6151\n",
      "Validation Loss: 0.6651 - Validation Accuracy: 0.8398\n",
      "Epoch 6/10 - Loss: 1.7061 - Accuracy: 0.6175\n",
      "Validation Loss: 0.9915 - Validation Accuracy: 0.8042\n",
      "Epoch 7/10 - Loss: 1.7166 - Accuracy: 0.6274\n",
      "Validation Loss: 0.8509 - Validation Accuracy: 0.8147\n",
      "Epoch 8/10 - Loss: 1.7550 - Accuracy: 0.6265\n",
      "Validation Loss: 0.7923 - Validation Accuracy: 0.8328\n",
      "Epoch 9/10 - Loss: 1.7602 - Accuracy: 0.6318\n",
      "Validation Loss: 0.9744 - Validation Accuracy: 0.8157\n",
      "Epoch 10/10 - Loss: 1.7708 - Accuracy: 0.6388\n",
      "Validation Loss: 1.1259 - Validation Accuracy: 0.7954\n"
     ]
    }
   ],
   "source": [
    "# delete_all_augmented(train_path)\n",
    "# reset_data(train_path, test_path)\n",
    "# split_data(train_path, test_path)\n",
    "# augment_images(train_path)\n",
    "# train_cross_entropy_1, train_accuracy_1, test_cross_entropy_1, test_accuracy_1 = train_the_model()\n",
    "# delete_all_augmented(train_path)\n",
    "# reset_data(train_path, test_path)\n",
    "# split_data(train_path, test_path)\n",
    "# augment_images(train_path)\n",
    "train_cross_entropy_2, train_accuracy_2, test_cross_entropy_2, test_accuracy_2 = train_the_model()"
   ]
  },
  {
   "cell_type": "code",
   "execution_count": 7,
   "id": "d7d44974",
   "metadata": {},
   "outputs": [
    {
     "data": {
      "text/plain": [
       "[2.3816444715313474,\n",
       " 1.7109621901410523,\n",
       " 1.6595972258273508,\n",
       " 1.6633148939550892,\n",
       " 1.6797356845438085,\n",
       " 1.706101706599739,\n",
       " 1.7166062156002602,\n",
       " 1.755045654618828,\n",
       " 1.7602122208341626,\n",
       " 1.7707612841141318]"
      ]
     },
     "execution_count": 7,
     "metadata": {},
     "output_type": "execute_result"
    }
   ],
   "source": [
    "train_cross_entropy_2"
   ]
  },
  {
   "cell_type": "code",
   "execution_count": 8,
   "id": "4bc7746a",
   "metadata": {},
   "outputs": [],
   "source": [
    "save_path = os.path.join(base_path, 'inception ypred ytrue')\n",
    "# np.savetxt(os.path.join(save_path,'train_accuracy_1.txt'), train_accuracy_1)\n",
    "# np.savetxt(os.path.join(save_path,'test_accuracy_1.txt'), test_accuracy_1)\n",
    "# np.savetxt(os.path.join(save_path,'train_cross_entropy_1.txt'), train_cross_entropy_1)\n",
    "# np.savetxt(os.path.join(save_path,'test_cross_entropy_1.txt'), test_cross_entropy_1)\n",
    "\n",
    "np.savetxt(os.path.join(save_path,'train_accuracy_2.txt'), train_accuracy_2)\n",
    "np.savetxt(os.path.join(save_path,'test_accuracy_2.txt'), test_accuracy_2)\n",
    "np.savetxt(os.path.join(save_path,'train_cross_entropy_2.txt'), train_cross_entropy_2)\n",
    "np.savetxt(os.path.join(save_path,'test_cross_entropy_2.txt'), test_cross_entropy_2)"
   ]
  },
  {
   "cell_type": "code",
   "execution_count": 52,
   "id": "838a0f65",
   "metadata": {},
   "outputs": [
    {
     "name": "stdout",
     "output_type": "stream",
     "text": [
      "Epoch 1/10 - Loss: 2.4102 - Accuracy: 0.4215\n",
      "Validation Loss: 0.8206 - Validation Accuracy: 0.7849\n",
      "Epoch 2/10 - Loss: 1.7433 - Accuracy: 0.5667\n",
      "Validation Loss: 0.6853 - Validation Accuracy: 0.8232\n",
      "Epoch 3/10 - Loss: 1.7172 - Accuracy: 0.5890\n",
      "Validation Loss: 0.5459 - Validation Accuracy: 0.8547\n",
      "Epoch 4/10 - Loss: 1.7206 - Accuracy: 0.6002\n",
      "Validation Loss: 0.5065 - Validation Accuracy: 0.8604\n",
      "Epoch 5/10 - Loss: 1.7501 - Accuracy: 0.6047\n",
      "Validation Loss: 0.4832 - Validation Accuracy: 0.8738\n",
      "Epoch 6/10 - Loss: 1.7725 - Accuracy: 0.6104\n",
      "Validation Loss: 0.5970 - Validation Accuracy: 0.8457\n",
      "Epoch 7/10 - Loss: 1.7800 - Accuracy: 0.6180\n",
      "Validation Loss: 0.6156 - Validation Accuracy: 0.8564\n",
      "Epoch 8/10 - Loss: 1.7855 - Accuracy: 0.6217\n",
      "Validation Loss: 0.6018 - Validation Accuracy: 0.8635\n",
      "Epoch 9/10 - Loss: 1.7900 - Accuracy: 0.6229\n",
      "Validation Loss: 0.6355 - Validation Accuracy: 0.8562\n",
      "Epoch 10/10 - Loss: 1.8173 - Accuracy: 0.6269\n",
      "Validation Loss: 0.8460 - Validation Accuracy: 0.8418\n"
     ]
    }
   ],
   "source": [
    "delete_all_augmented(train_path)\n",
    "reset_data(train_path, test_path)\n",
    "split_data(train_path, test_path)\n",
    "augment_images(train _path)\n",
    "train_cross_entropy_1, train_accuracy_1, test_cross_entropy_1, test_accuracy_1 = train_the_model()\n",
    "delete_all_augmented(train_path)\n",
    "reset_data(train_path, test_path)\n",
    "split_data(train_path, test_path)\n",
    "augment_images(train_path)\n",
    "train_cross_entropy_2, train_accuracy_2, test_cross_entropy_2, test_accuracy_2 = train_the_model()"
   ]
  },
  {
   "cell_type": "code",
   "execution_count": 10,
   "id": "347caaa3",
   "metadata": {},
   "outputs": [],
   "source": [
    "save_path = os.path.join(base_path, 'inception ypred ytrue')\n",
    "train_accuracy_1 = np.loadtxt(os.path.join(save_path,'train_accuracy_1.txt'))\n",
    "test_accuracy_1 = np.loadtxt(os.path.join(save_path,'test_accuracy_1.txt'))\n",
    "train_cross_entropy_1 = np.loadtxt(os.path.join(save_path,'train_cross_entropy_1.txt'))\n",
    "test_cross_entropy_1 = np.loadtxt(os.path.join(save_path,'test_cross_entropy_1.txt'))\n",
    "\n",
    "train_accuracy_2 = np.loadtxt(os.path.join(save_path,'train_accuracy_2.txt'))\n",
    "test_accuracy_2 = np.loadtxt(os.path.join(save_path,'test_accuracy_2.txt'))\n",
    "train_cross_entropy_2 = np.loadtxt(os.path.join(save_path,'train_cross_entropy_2.txt'))\n",
    "test_cross_entropy_2 = np.loadtxt(os.path.join(save_path,'test_cross_entropy_2.txt'))"
   ]
  },
  {
   "cell_type": "code",
   "execution_count": 14,
   "id": "0b4c6ad0",
   "metadata": {},
   "outputs": [],
   "source": [
    "train_accuracy_average = (train_accuracy_1 + train_accuracy_2) /2\n",
    "test_accuracy_average = (test_accuracy_1 + test_accuracy_2) /2"
   ]
  },
  {
   "cell_type": "code",
   "execution_count": 15,
   "id": "bd81368c",
   "metadata": {},
   "outputs": [
    {
     "data": {
      "image/png": "[encoded data removed]",
      "text/plain": [
       "<Figure size 640x480 with 1 Axes>"
      ]
     },
     "metadata": {},
     "output_type": "display_data"
    }
   ],
   "source": [
    "plt.plot(range(len(train_accuracy_average)), train_accuracy_average,\n",
    "         label='Training')\n",
    "plt.plot(range(len(test_accuracy_average)), test_accuracy_average,\n",
    "         label='Validation')\n",
    "plt.ylabel('Accuracy')\n",
    "plt.xlabel('Epochs')\n",
    "plt.legend(loc='lower right')\n",
    "plt.title('Accuracy by epochs - inceptionv3')\n",
    "plt.show()"
   ]
  },
  {
   "cell_type": "code",
   "execution_count": 16,
   "id": "dd5e3a54",
   "metadata": {},
   "outputs": [
    {
     "data": {
      "text/plain": [
       "0.802490234375"
      ]
     },
     "execution_count": 16,
     "metadata": {},
     "output_type": "execute_result"
    }
   ],
   "source": [
    "test_accuracy_average[-1]"
   ]
  },
  {
   "cell_type": "code",
   "execution_count": 17,
   "id": "46e1c5b8",
   "metadata": {},
   "outputs": [],
   "source": [
    "train_cross_entropy_average = (train_cross_entropy_1 + train_cross_entropy_2) /2\n",
    "test_cross_entropy_average = (test_cross_entropy_1 + test_cross_entropy_2) /2"
   ]
  },
  {
   "cell_type": "code",
   "execution_count": 18,
   "id": "5e458c58",
   "metadata": {},
   "outputs": [
    {
     "data": {
      "image/png": "[encoded data removed]",
      "text/plain": [
       "<Figure size 640x480 with 1 Axes>"
      ]
     },
     "metadata": {},
     "output_type": "display_data"
    }
   ],
   "source": [
    "plt.plot(range(len(train_cross_entropy_average)), train_cross_entropy_average,\n",
    "         label='Training')\n",
    "plt.plot(range(len(test_cross_entropy_average)), test_cross_entropy_average,\n",
    "         label='Validation')\n",
    "plt.ylabel('cross_entropy')\n",
    "plt.xlabel('Epochs')\n",
    "plt.legend(loc='lower right')\n",
    "plt.title('cross_entropy by epochs - inceptionv3')\n",
    "plt.show()"
   ]
  },
  {
   "cell_type": "code",
   "execution_count": null,
   "id": "2da387d1",
   "metadata": {},
   "outputs": [],
   "source": []
  }
 ],
 "metadata": {
  "kernelspec": {
   "display_name": "kaggle",
   "language": "python",
   "name": "kaggle"
  },
  "language_info": {
   "codemirror_mode": {
    "name": "ipython",
    "version": 3
   },
   "file_extension": ".py",
   "mimetype": "text/x-python",
   "name": "python",
   "nbconvert_exporter": "python",
   "pygments_lexer": "ipython3",
   "version": "3.9.7"
  }
 },
 "nbformat": 4,
 "nbformat_minor": 5
}
